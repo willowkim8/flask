{
 "cells": [
  {
   "cell_type": "markdown",
   "id": "tough-hotel",
   "metadata": {},
   "source": [
    "#  28-1. 들어가며"
   ]
  },
  {
   "cell_type": "markdown",
   "id": "funded-conjunction",
   "metadata": {},
   "source": [
    "## 학습 목표\n",
    "플라스크(Flask)에 대해 배워 보고 실제 웹사이트를 제작해 본다.  \n",
    "플라스크(Flask)에서 SQL문을 이용한 DB 명령과 이미지 전처리를 해 본다.  \n",
    "\n",
    "## 목차\n",
    "1. 전처리 웹 사이트를 제작해보자\n",
    "2. 웹 페이지 개발의 위대한 첫걸음\n",
    "3. 플라스크(Flask) 시작하기\n",
    "4. 플라스크(Flask) 프로젝트\n",
    "5. UI 코드\n",
    "  + HTML 기초\n",
    "  + 버튼과 텍스트박스\n",
    "  + 파일 선택\n",
    "6. 실전! 이미지 전처리 페이지 만들기\n",
    "  + 해보기\n",
    "  + 코드분석\n",
    "7. 실전! SQL 처리 페이지 만들기\n",
    "  + 해보기\n",
    "  + 코드분석"
   ]
  },
  {
   "cell_type": "markdown",
   "id": "wireless-taxation",
   "metadata": {},
   "source": [
    "# 28-2. 전처리 웹 사이트를 제작해보자"
   ]
  },
  {
   "cell_type": "markdown",
   "id": "close-chosen",
   "metadata": {},
   "source": [
    "## 파이썬(Python)"
   ]
  },
  {
   "cell_type": "markdown",
   "id": "welcome-metallic",
   "metadata": {},
   "source": [
    "파이썬 코드를 짜면 우리가 엑셀이나 포토샵 같은 프로그램을 통해서 하는 것을 코드 몇 줄로 같은 기능을 구현할 수 있다  \n",
    "그냥 프로그램으로 클릭 & 클릭하면 되지 굳이 코드를 써서 해야 하나 의문이 들었을 수도 있습니다.  \n",
    "우리가 앞으로 다룰 것을 약간 스포해보자면, 화면이 있는 프로그램을 만들어서 여러분만의 프로그램을 직접 만들어 볼 것입니다."
   ]
  },
  {
   "cell_type": "markdown",
   "id": "synthetic-observation",
   "metadata": {},
   "source": [
    "## 전처리 웹 사이트를 제작해보자"
   ]
  },
  {
   "cell_type": "markdown",
   "id": "sapphire-month",
   "metadata": {},
   "source": [
    "웹 사이트들은 인터넷 익스플로러 혹은 크롬과 같은 웹 브라우저를 이용해 실행되는 프로그램이라고 생각하면 됩니다.  \n",
    "비유를 해보자면 웹 브라우저는 윈도우(windows)이고 웹 사이트는 이 윈도우에서 실행되는 엑셀(excel) 같은 프로그램입니다."
   ]
  },
  {
   "cell_type": "markdown",
   "id": "verified-cattle",
   "metadata": {},
   "source": [
    "![](https://aiffelstaticprd.blob.core.windows.net/media/original_images/Untitled_mbgM91H.png)"
   ]
  },
  {
   "cell_type": "markdown",
   "id": "consistent-continuity",
   "metadata": {},
   "source": [
    "프론트 엔드는 우리가 보고 있는 웹 사이트의 화면을 말합니다. 백 엔드는 화면에서는 보이지 않지만, 웹 사이트를 화면에 보여주기 위해 데이터베이스를 활용해 실질적인 정보의 가공/처리를 수행하는 구성 요소라고 이해하면 쉽습니다.  \n",
    "백 엔드 없이 프론트 엔드만 이용할 때도 있지만 DB같은 것을 붙여 이용하기 힘들다  \n",
    "백 엔드도 마찬가지로 프론트 엔드 없이 백 엔드만 사용하게 되면 화면 없이 파이썬 코드처럼 텍스트로 이루어진 명령문을 이용해서 직접 코드를 짜면서 이용해야 합니다.  \n",
    "우리가 웹 관련 개발자를 꿈꾸는 사람이라면 프론트 및 백 엔드의 각 부분을 아주 자세히 알아야겠지만, 데이터 분석과 AI 분야에 도전하는 분이더라도 오늘 다루는 아주 기본 개념에 해당하는 지식은 여러분들의 멋진 결과물들을 보다 많은 사람들에게 공유하는 작업에 도움이 되실 거라 생각합니다."
   ]
  },
  {
   "cell_type": "markdown",
   "id": "false-amazon",
   "metadata": {},
   "source": [
    "## 결과물 예시"
   ]
  },
  {
   "cell_type": "markdown",
   "id": "theoretical-plumbing",
   "metadata": {},
   "source": [
    "앞으로 우리가 개발하게 될 '이미지 전처리 페이지' 그리고 'SQL 처리 페이지'입니다.  \n",
    "\n",
    "디자인을 보시면 아주 기본적인 흑백 바탕의 공돌이 느낌의 페이지입니다.  \n",
    "좀 더 예쁘게 만드는 방법은 CSS(Cascading Style Sheets)라는 것을 이용하면 됩니다. 여기서는 다루지 않습니다. 혹시 홈페이지를 정말 예쁘게 꾸미고 싶은 분들이 계시다면 CSS에 대해 구글에서 찾아보시면 잘 나와 있습니다. HTML을 이해하고 계신다면 CSS의 기본개념은 어렵지 않으실 것입니다.  \n",
    "https://www.w3schools.com/css/  "
   ]
  },
  {
   "cell_type": "markdown",
   "id": "republican-lloyd",
   "metadata": {},
   "source": [
    "## 우리가 만들어 볼 페이지"
   ]
  },
  {
   "cell_type": "markdown",
   "id": "indoor-paris",
   "metadata": {},
   "source": [
    "### 1. 이미지 전처리 페이지"
   ]
  },
  {
   "cell_type": "markdown",
   "id": "generic-interval",
   "metadata": {},
   "source": [
    "이미지를 업로드하고, 이미지 전처리 종류를 선택해서 이미지를 변환하는 페이지입니다."
   ]
  },
  {
   "cell_type": "markdown",
   "id": "amino-position",
   "metadata": {},
   "source": [
    "![](https://aiffelstaticprd.blob.core.windows.net/media/original_images/Untitled_2_ccVzxKK.png)"
   ]
  },
  {
   "cell_type": "markdown",
   "id": "julian-slide",
   "metadata": {},
   "source": [
    "### 2. SQL 처리 페이지 \n",
    "SQL문을 이용해서 데이터베이스를 다루는 페이지입니다."
   ]
  },
  {
   "cell_type": "markdown",
   "id": "raising-safety",
   "metadata": {},
   "source": [
    "![](https://aiffelstaticprd.blob.core.windows.net/media/original_images/Untitled_3_IgtRLah.png)"
   ]
  },
  {
   "cell_type": "markdown",
   "id": "legal-julian",
   "metadata": {},
   "source": [
    "# 28-3. 웹 페이지 개발의 위대한 첫걸음"
   ]
  },
  {
   "cell_type": "markdown",
   "id": "authentic-suicide",
   "metadata": {},
   "source": [
    "파이썬을 이용해 웹 페이지를 개발해볼 것입니다.  \n",
    "Java, C++ 등의 언어로 개발하는 것보다 빠른 속도로 개발할 수 있다는 점이 파이썬의 장점"
   ]
  },
  {
   "cell_type": "markdown",
   "id": "complicated-cycle",
   "metadata": {},
   "source": [
    "## 환경 설정"
   ]
  },
  {
   "cell_type": "markdown",
   "id": "powerful-wayne",
   "metadata": {},
   "source": [
    "## 가상 환경\n",
    "만약 아나콘다를 사용하고 있다면 이 설치 과정은 불필요합니다."
   ]
  },
  {
   "cell_type": "markdown",
   "id": "angry-withdrawal",
   "metadata": {},
   "source": [
    "저 가상 환경 패키지부터 설치합니다. 콘솔(console)에서 아래와 같이 실행해보겠습니다.\n",
    "```\n",
    "$ pip3 install virtualenv\n",
    "```\n",
    "설치가 완료되었으면 가상 환경을 실행해보겠습니다. 콘솔에서 아래와 같이 실행해보겠습니다.\n",
    "```\n",
    "$ mkdir ~/myproject\n",
    "$ cd ~/myproject\n",
    "$ virtualenv aiffel\n",
    "$ source aiffel/bin/activate\n",
    "$ (aiffel) pip list\n",
    "$ (aiffel) pip install pandas\n",
    "```"
   ]
  },
  {
   "cell_type": "markdown",
   "id": "agreed-beaver",
   "metadata": {},
   "source": [
    "코드 설명\n",
    "* mkdir 명령어로 myproject라는 폴더를 생성합니다.\n",
    "* cd 명령어로 지금 코드가 작성되고 있는 프로젝트 폴더에 들어갑니다.\n",
    "* virtualenv 명령어를 이용해서 aiffel이라는 이름의 가상 환경을 만듭니다.\n",
    "* 가상 환경 aiffel을 실행합니다.\n",
    "* 정상적으로 작동하면 4번째 줄의 맨 앞에 (aiffel)이 뜨게 됩니다. 설치된 외부 패키지를 출력해봅니다.\n",
    "* pip을 이용해서 pandas 패키지를 설치해봅니다.  \n",
    "\n",
    "간단하지요? 이제 (aiffel)이 명령줄 옆에 붙어 있으면 pip을 통해 설치한 패키지는 가상환경인 aiffel로 가게 된답니다."
   ]
  },
  {
   "cell_type": "markdown",
   "id": "filled-result",
   "metadata": {},
   "source": [
    "# 28-4. 플라스크(Flask) 시작하기"
   ]
  },
  {
   "cell_type": "markdown",
   "id": "integral-means",
   "metadata": {},
   "source": [
    "플라스크(flask)는 마이크로 웹 프레임워크입니다  \n",
    ">* 마이크로(Micro) : 플라스크의 특징인 웹서비스를 구성하는 최소한의 기능을 담아 단순하지만, 확장이 가능한 설계를 의미합니다.\n",
    ">* 웹(Web) : 인터넷 브라우저를 통해서 보고 있는 공간을 의미합니다.\n",
    ">* 프레임워크(Framework) : 어떠한 목적을 달성하기 위해 복잡하게 얽혀있는 문제를 해결하기 위한 구조며, 소프트웨어 개발에 있어 하나의 뼈대 역할을 합니다. 프레임워크 안에는 기본적으로 필요한 기능들이 미리 구축되어 있어서 추가하고자 하는 기능들만 선별적으로 개발하면 됩니다. 그리고 이때, 프레임워크에서 정의한 규칙을 준수해서 개발해야 합니다. 즉, 프레임워크는 사람에게 있어서 뼈와 같으며 이 뼈 위에 장기와 같은 기능들을 하나씩 추가하는 것입니다."
   ]
  },
  {
   "cell_type": "markdown",
   "id": "connected-longer",
   "metadata": {},
   "source": [
    "## 플라스크 첫걸음"
   ]
  },
  {
   "cell_type": "markdown",
   "id": "assisted-easter",
   "metadata": {},
   "source": [
    "아래와 같이 작업 디렉토리 만들기"
   ]
  },
  {
   "cell_type": "code",
   "execution_count": 1,
   "id": "neutral-darkness",
   "metadata": {},
   "outputs": [],
   "source": [
    "! mkdir -p ~/aiffel/flask_app"
   ]
  },
  {
   "cell_type": "code",
   "execution_count": 2,
   "id": "small-chrome",
   "metadata": {},
   "outputs": [
    {
     "name": "stdout",
     "output_type": "stream",
     "text": [
      "Collecting flask\n",
      "  Downloading Flask-1.1.2-py2.py3-none-any.whl (94 kB)\n",
      "\u001b[K     |████████████████████████████████| 94 kB 82 kB/s eta 0:00:011\n",
      "\u001b[?25hCollecting itsdangerous>=0.24\n",
      "  Downloading itsdangerous-1.1.0-py2.py3-none-any.whl (16 kB)\n",
      "Requirement already satisfied: Werkzeug>=0.15 in /home/aiffel-dj35/anaconda3/envs/aiffel/lib/python3.7/site-packages (from flask) (1.0.1)\n",
      "Requirement already satisfied: click>=5.1 in /home/aiffel-dj35/anaconda3/envs/aiffel/lib/python3.7/site-packages (from flask) (7.1.2)\n",
      "Requirement already satisfied: Jinja2>=2.10.1 in /home/aiffel-dj35/anaconda3/envs/aiffel/lib/python3.7/site-packages (from flask) (2.11.3)\n",
      "Requirement already satisfied: MarkupSafe>=0.23 in /home/aiffel-dj35/anaconda3/envs/aiffel/lib/python3.7/site-packages (from Jinja2>=2.10.1->flask) (1.1.1)\n",
      "Installing collected packages: itsdangerous, flask\n",
      "Successfully installed flask-1.1.2 itsdangerous-1.1.0\n"
     ]
    }
   ],
   "source": [
    "! pip install flask"
   ]
  },
  {
   "cell_type": "markdown",
   "id": "neither-ozone",
   "metadata": {},
   "source": [
    "```\n",
    "# IDE에서 실행\n",
    "from flask import Flask\n",
    "app = Flask(__name__)\n",
    "\n",
    "@app.route(\"/\")\n",
    "def hello():\n",
    "    return \"플라스크 동작 확인!\"\n",
    "\n",
    "if __name__ == \"__main__\":\n",
    "    app.run()\n",
    "```\n"
   ]
  },
  {
   "cell_type": "code",
   "execution_count": 4,
   "id": "advisory-protection",
   "metadata": {},
   "outputs": [
    {
     "name": "stdout",
     "output_type": "stream",
     "text": [
      " * Serving Flask app \"hello_flask\" (lazy loading)\r\n",
      " * Environment: production\r\n",
      "\u001b[31m   WARNING: This is a development server. Do not use it in a production deployment.\u001b[0m\r\n",
      "\u001b[2m   Use a production WSGI server instead.\u001b[0m\r\n",
      " * Debug mode: off\r\n",
      "Traceback (most recent call last):\r\n",
      "  File \"/home/aiffel-dj35/aiffel/flask_app/hello_flask.py\", line 9, in <module>\r\n",
      "    app.run()\r\n",
      "  File \"/home/aiffel-dj35/anaconda3/envs/aiffel/lib/python3.7/site-packages/flask/app.py\", line 990, in run\r\n",
      "    run_simple(host, port, self, **options)\r\n",
      "  File \"/home/aiffel-dj35/anaconda3/envs/aiffel/lib/python3.7/site-packages/werkzeug/serving.py\", line 1052, in run_simple\r\n",
      "    inner()\r\n",
      "  File \"/home/aiffel-dj35/anaconda3/envs/aiffel/lib/python3.7/site-packages/werkzeug/serving.py\", line 1005, in inner\r\n",
      "    fd=fd,\r\n",
      "  File \"/home/aiffel-dj35/anaconda3/envs/aiffel/lib/python3.7/site-packages/werkzeug/serving.py\", line 848, in make_server\r\n",
      "    host, port, app, request_handler, passthrough_errors, ssl_context, fd=fd\r\n",
      "  File \"/home/aiffel-dj35/anaconda3/envs/aiffel/lib/python3.7/site-packages/werkzeug/serving.py\", line 740, in __init__\r\n",
      "    HTTPServer.__init__(self, server_address, handler)\r\n",
      "  File \"/home/aiffel-dj35/anaconda3/envs/aiffel/lib/python3.7/socketserver.py\", line 452, in __init__\r\n",
      "    self.server_bind()\r\n",
      "  File \"/home/aiffel-dj35/anaconda3/envs/aiffel/lib/python3.7/http/server.py\", line 137, in server_bind\r\n",
      "    socketserver.TCPServer.server_bind(self)\r\n",
      "  File \"/home/aiffel-dj35/anaconda3/envs/aiffel/lib/python3.7/socketserver.py\", line 466, in server_bind\r\n",
      "    self.socket.bind(self.server_address)\r\n",
      "OSError: [Errno 98] Address already in use\r\n"
     ]
    }
   ],
   "source": [
    "! python ~/aiffel/flask_app/hello_flask.py"
   ]
  },
  {
   "cell_type": "markdown",
   "id": "three-witness",
   "metadata": {},
   "source": [
    "코드 설명\n",
    "from flask import Flask\n",
    ">flask 패키지에서 Flask 모듈을 가져옵니다.\n",
    "\n",
    "app = Flask(__name__)\n",
    ">Flask 객체가 생성되어 app라는 변수에 저장됩니다.\n",
    "\n",
    "@app.route(‘/’)\n",
    ">@와 같이 적힌 코드를 데코레이터(decorator)라고 부릅니다. 이 데코레이터는 URL 규칙을 받아 해당하는 규칙의 URL로 요청이 들어오면 붙어 있는 함수(여기에서는 hello())를 실행하게끔 설정합니다.  \n",
    "(‘/’)가 http://IP:(port number)/ 맨 뒤의 /를 의미하며 이는 root의 위치를 나타냅니다.\n",
    "\n",
    "데코레이터(decorator)  \n",
    "-> 데코레이터는 함수를 반환하는 함수입니다.  \n",
    "데코레이터 밑에 있는 함수가 실행되기 전에 먼저 데코레이터가 실행된다고 생각하면 됩니다.  "
   ]
  },
  {
   "cell_type": "code",
   "execution_count": null,
   "id": "dental-webmaster",
   "metadata": {},
   "outputs": [],
   "source": [
    "def main_function():\n",
    "     print (\"test function\")\n",
    "print(\"🚌💨\")"
   ]
  },
  {
   "cell_type": "markdown",
   "id": "thick-possibility",
   "metadata": {},
   "source": [
    "위의 코드는 \"test function\" 이라는 텍스트를 화면에 표시해주는 함수입니다. \"test function\"이 화면에 표시되는 데 걸리는 시간을 알고 싶다면 어떻게 해야 할까요? 아래와 같이 텍스트가 표시되기 전과 후의 시간을 알면 되겠네요."
   ]
  },
  {
   "cell_type": "code",
   "execution_count": 5,
   "id": "handled-curtis",
   "metadata": {},
   "outputs": [
    {
     "name": "stdout",
     "output_type": "stream",
     "text": [
      "2021-03-10 11:10:13.938148\n",
      "test function\n",
      "2021-03-10 11:10:13.938637\n"
     ]
    }
   ],
   "source": [
    "import datetime\n",
    "\n",
    "# 코드 선언부\n",
    "def main_function():     \n",
    "     print (\"test function\")\n",
    "\n",
    "# 코드 실행부   \n",
    "print (datetime.datetime.now()) #- 텍스트 표시 전 시간\n",
    "main_function()\n",
    "print (datetime.datetime.now()) #- 텍스트 표시 후 시간"
   ]
  },
  {
   "cell_type": "markdown",
   "id": "noble-comedy",
   "metadata": {},
   "source": [
    "파이썬은 데코레이터라는 기능을 이용해서 매번 이렇게 작성하지 않아도 되게   \n",
    "효과적으로 사용할 수 있는 방법을 제시합니다.\n",
    "\n",
    "데코레이터를 만들어서 사용하는 방법입니다. datetime_decorator라는 데코레이터를 만들어 보겠습니다."
   ]
  },
  {
   "cell_type": "code",
   "execution_count": null,
   "id": "funded-stand",
   "metadata": {},
   "outputs": [],
   "source": [
    "# 코드 선언부\n",
    "def datetime_decorator(func):\n",
    "        def decorated():\n",
    "                print(datetime.datetime.now())\n",
    "                func()\n",
    "                print(datetime.datetime.now())\n",
    "        return decorated\n",
    "\n",
    "@datetime_decorator\n",
    "def main_function():\n",
    "        print (\"test function\")\n",
    "\n",
    "\n",
    "# 코드 실행부  \n",
    "main_function()"
   ]
  },
  {
   "cell_type": "markdown",
   "id": "considerable-republic",
   "metadata": {},
   "source": [
    "데코레이터를 만드는 방식은 함수를 만드는 방법과 같습니다. 함수 datetime_decorator(func)를 정의하고 아래에 기능하는 코드를 작성합니다.  \n",
    "함수 안에 함수가 있는 구조로 만들어서 datetime_decorator(func) 함수가 내부 함수를 반환하는 구조로 하면 자동으로 데코레이터에 등록이 됩니다. 함수의 이름과 내부에 있는 함수명은 자유롭게 쓸 수 있습니다."
   ]
  },
  {
   "cell_type": "markdown",
   "id": "lyric-level",
   "metadata": {},
   "source": [
    "## 실행 결과"
   ]
  },
  {
   "cell_type": "markdown",
   "id": "hidden-steam",
   "metadata": {},
   "source": [
    "플라스크 코드를 실행시키면, 결과 콘솔에 정보가 나오는데  \n",
    "이 중에서 http://127.0.0.1:5000/ 이 부분만 따로 복사해서 웹 브라우저에 붙여넣기 해보겠습니다.  \n",
    "만약 안되면 http://localhost:5000/ 을 입력해 보셔도 됩니다.  \n",
    "```\n",
    "# 실행 결과\n",
    "* Serving Flask app \"app\" (lazy loading)\n",
    " * Environment: production\n",
    "   WARNING: This is a development server. Do not use it in a production deployment.\n",
    "   Use a production WSGI server instead.\n",
    " * Debug mode: off\n",
    " *** Running on http://127.0.0.1:5000/ (Press CTRL+C to quit)**\n",
    "```\n",
    "\n",
    "혹시 5000번 포트를 이미 사용하고 있는 프로그램이 있다면 실행 시 Error: [Errno 98] Address already in use 와 같은 에러가 발생할 것입니다. 혹시 위 플라스크 코드를 중복해서 실행했다면 이런 에러가 날 가능성이 높습니다. 5000번 포트가 이미 점유되어 있는지 확인하려면 다음 명령어를 활용합시다.  \n",
    "```\n",
    "netstat -an | grep 5000 \n",
    "```"
   ]
  },
  {
   "cell_type": "markdown",
   "id": "surgical-matter",
   "metadata": {},
   "source": [
    "## 플라스크 중복 실행 오류 해결"
   ]
  },
  {
   "cell_type": "markdown",
   "id": "stopped-palestinian",
   "metadata": {},
   "source": [
    "새로운 터미널 창을 실행시켜주세요.(CTRL+ALT+t단축키로 편리하게 사용해보세요.)\n",
    "```\n",
    "$ sudo lsof -i :5000\n",
    "```\n",
    "flask 가 생성한 pip를 확인하고 출력된 PID를 확인합니다.\n",
    "```\n",
    "$ sudo kill -9 [PID]\n",
    "```\n",
    "kill 명령어를 통해 위 명령어의 [PID]부분에 각자의 PID 번호를 입력하여 kill합니다.\n",
    "\n",
    "다시 한 번 아래 코드를 실행시켜봅시다! 원활한 노드 진행을 위해 Visual Studio Code나 PyCharm 등 선호하는 파이썬 IDE를 선택하여 실행하시면 보다 편하게 학습하실 수 있습니다.\n",
    "```\n",
    "from flask import Flask\n",
    "app = Flask(__name__)\n",
    "\n",
    "@app.route(\"/\")\n",
    "def hello():\n",
    "    return \"플라스크 동작 확인!\"\n",
    "\n",
    "if __name__ == \"__main__\":\n",
    "    app.run()\n",
    "```"
   ]
  },
  {
   "cell_type": "markdown",
   "id": "friendly-myanmar",
   "metadata": {},
   "source": [
    "# 플라스크(Flask) 프로젝트"
   ]
  },
  {
   "cell_type": "markdown",
   "id": "interior-manor",
   "metadata": {},
   "source": [
    "플라스크에는 프로젝트(project)라는 개념이 있습니다. 하나의 웹 사이트는 하나의 프로젝트입니다  \n",
    "아무 웹 사이트를 검색해 들어가 보면 게시판, 공지사항 등 여러 페이지로 이뤄져 있는 것을 볼 수 있습니다.  \n",
    "여기서 웹 페이지는 앱(app)이라고 볼 수 있습니다. 그래서 하나의 프로젝트 안에는 여러 개의 앱이 존재할 수 있습니다.  \n",
    "우리가 만들 '이미지 전처리 페이지'와 'SQL 전처리 페이지 '는 각각 다른 앱(app)으로 만들 것입니다."
   ]
  },
  {
   "cell_type": "markdown",
   "id": "least-static",
   "metadata": {},
   "source": [
    "![](https://aiffelstaticprd.blob.core.windows.net/media/original_images/Untitled_5_4azj64i.png)"
   ]
  },
  {
   "cell_type": "markdown",
   "id": "auburn-science",
   "metadata": {},
   "source": [
    "이전 스텝에서 아래와 같이 만들어 둔 작업 디렉토리를 루트 디렉토리로 삼겠습니다. 이름은 flask_app였습니다.\n",
    "```\n",
    "$ mkdir -p ~/aiffel/flask_app\n",
    "```\n",
    "이제 플라스크 웹 프로젝트 디렉토리를 만들어 보겠습니다. 이름은 pyproject라고 하겠습니다. 프로젝트 디렉토리는 루트 디렉토리의 바로 아래에 만듭니다.\n",
    "```\n",
    "$ cd ~/aiffel/flask_app\n",
    "$ mkdir pyproject\n",
    "```\n",
    "플라스크는 정해진 프로젝트 구조대로 작업할 필요가 없습니다. 그래도 다른 사람과 같이 작업을 해야하는 경우가 생길 수 있기 때문에 플라스크에서 권장하는 구조로 만드는 것이 좋습니다. 플라스크에서 권장하는 구조로 이번 작업을 수행해보겠습니다. 해당 구조로 만든 이번 노드의 프로젝트는 아래와 같습니다.  \n",
    "```\n",
    "~/aiffel/flask_app\n",
    "└─ pyproject/\n",
    "      ├─ __init__.py\n",
    "      ├─ app.py \n",
    "      ├─ app_data.py\n",
    "      ├─ app_image.py\n",
    "      ├─ static/\n",
    "      └─ templates/\n",
    "          ├─ index.html\n",
    "          ├─ data.html\n",
    "          └─ image.html\n",
    "```\n",
    "\n"
   ]
  },
  {
   "cell_type": "markdown",
   "id": "selected-pipeline",
   "metadata": {},
   "source": [
    "~/aiffel/flask_app : 루트 디렉토리의 경로입니다.\n",
    "+ pyproject/ : 플라스크의 프로젝트 디렉토리입니다.\n",
    "  + static/ : 웹 사이트는 CSS 파일과 같은 정적 파일을 필요로합니다. HTML 페이지를 이쁘게 꾸미는 코드가 있는 CSS 파일을 이 폴더 안에 넣게 됩니다.\n",
    "  + templates : HTML 파일들을 넣어두는 폴더입니다.\n",
    "\n"
   ]
  },
  {
   "cell_type": "markdown",
   "id": "mighty-hobby",
   "metadata": {},
   "source": [
    "* Templates\n",
    ">플라스크에서는 보이는 부분과 처리하는 부분을 나누기 위해 템플릿이라는 기능을 제공합니다.  \n",
    "템플릿에서 사용되는 파일들은 이 디렉토리에 저장되며 HTML 파일들을 여기에 넣게 됩니다.\n",
    "\n",
    "* HTML(Hypertext Markup Language)\n",
    ">HTML은 프로그래밍 언어는 아니고, 우리가 보는 웹 페이지가 어떻게 구조화되어 있는지 브라우저로 하여금 알 수 있도록 하는 마크업 언어입니다.  \n",
    "이는 개발자로 하여금 복잡하게 또는 간단하게 프로그래밍하도록 할 수 있습니다.  \n",
    "HTML은 elements로 구성되어 있으며, 이들은 적절한 방법으로 나타내고 실행하기 위해 각 콘텐츠의 여러 부분을 감싸고 마크업합니다. t \n",
    "ags는 웹상의 다른 페이지로 이동하게 하는 하이퍼링크 내용들을 생성하거나, 단어를 강조하는 등의 역할을 합니다."
   ]
  },
  {
   "cell_type": "markdown",
   "id": "color-wrong",
   "metadata": {},
   "source": [
    "static와 templates/ 폴더를 생성합니다.\n",
    "```\n",
    "$ cd ~/aiffel/flask_app/pyproject\n",
    "$ mkdir static\n",
    "$ mkdir templates\n",
    "```\n",
    "templates/ 폴더 아래에 index.html을 만들어 아래의 코드를 넣습니다. 텍스트 에디터 중 어떤 것을 쓰셔도 무방합니다. 우분투에 기본 탑재된 gedit이면 충분합니다. (터미널에 gedit를 입력하시면 바로 사용하실 수 있습니다.)\n",
    "```\n",
    "<!DOCTYPE HTML>\n",
    "<html>\n",
    "  <head>\n",
    "    <title>Flask Project</title>\n",
    "  </head>\n",
    "  <body>\n",
    "    <h1>플라스크 동작 확인!</h1>\n",
    "  </body>\n",
    "</html>\n",
    "```\n",
    "그리고 index.html을 렌더링하기 위해서 app.py를 만들어 아래 코드를 입력합니다.   \n",
    "정확한 경로는 ~/aiffel/flask_app/pyproject/app.py 입니다. \n",
    "```\n",
    "from flask import Flask, render_template\n",
    "\n",
    "app = Flask(__name__)\n",
    "\n",
    "@app.route('/')\n",
    "def index():\n",
    "  return render_template('index.html')\n",
    "\n",
    "@app.route('/about')\n",
    "def about():\n",
    "    return 'About project'\n",
    "\n",
    "if __name__ == \"__main__\":\n",
    "    app.run()\n",
    "```\n",
    "index()함수 안에 render_template('index.html')이 있습니다. 이 의미는 index.html을 렌더링하라는 의미입니다.  \n",
    "렌더링(Rendering) : 렌더링은 HTML, CSS 등을 브라우저에서 렌더링 엔진을 이용해서 그래픽 형태로 출력하는 과정을 말합니다.    \n",
    "  \n",
    "app.py를 실행\n",
    "```\n",
    "$ python ~/aiffel/flask_app/pyproject/app.py\n",
    "```"
   ]
  },
  {
   "cell_type": "markdown",
   "id": "completed-sessions",
   "metadata": {},
   "source": []
  },
  {
   "cell_type": "markdown",
   "id": "developed-execution",
   "metadata": {},
   "source": []
  },
  {
   "cell_type": "markdown",
   "id": "traditional-lover",
   "metadata": {},
   "source": []
  },
  {
   "cell_type": "markdown",
   "id": "basic-alaska",
   "metadata": {},
   "source": []
  },
  {
   "cell_type": "markdown",
   "id": "toxic-charge",
   "metadata": {},
   "source": []
  },
  {
   "cell_type": "markdown",
   "id": "detected-november",
   "metadata": {},
   "source": []
  },
  {
   "cell_type": "markdown",
   "id": "racial-confidentiality",
   "metadata": {},
   "source": []
  },
  {
   "cell_type": "markdown",
   "id": "exempt-feeding",
   "metadata": {},
   "source": []
  },
  {
   "cell_type": "markdown",
   "id": "duplicate-theta",
   "metadata": {},
   "source": []
  },
  {
   "cell_type": "markdown",
   "id": "successful-heath",
   "metadata": {},
   "source": []
  },
  {
   "cell_type": "markdown",
   "id": "lesser-spain",
   "metadata": {},
   "source": []
  },
  {
   "cell_type": "markdown",
   "id": "sorted-fourth",
   "metadata": {},
   "source": []
  },
  {
   "cell_type": "markdown",
   "id": "listed-murray",
   "metadata": {},
   "source": []
  },
  {
   "cell_type": "markdown",
   "id": "coastal-mitchell",
   "metadata": {},
   "source": []
  },
  {
   "cell_type": "markdown",
   "id": "subsequent-exposure",
   "metadata": {},
   "source": []
  },
  {
   "cell_type": "markdown",
   "id": "surface-forum",
   "metadata": {},
   "source": []
  },
  {
   "cell_type": "markdown",
   "id": "linear-coordinator",
   "metadata": {},
   "source": []
  },
  {
   "cell_type": "markdown",
   "id": "twelve-bridal",
   "metadata": {},
   "source": []
  },
  {
   "cell_type": "markdown",
   "id": "failing-spirit",
   "metadata": {},
   "source": []
  },
  {
   "cell_type": "markdown",
   "id": "native-completion",
   "metadata": {},
   "source": []
  },
  {
   "cell_type": "markdown",
   "id": "extensive-voice",
   "metadata": {},
   "source": []
  },
  {
   "cell_type": "markdown",
   "id": "light-retail",
   "metadata": {},
   "source": []
  },
  {
   "cell_type": "markdown",
   "id": "governmental-patrick",
   "metadata": {},
   "source": []
  },
  {
   "cell_type": "markdown",
   "id": "identical-madagascar",
   "metadata": {},
   "source": []
  },
  {
   "cell_type": "markdown",
   "id": "accompanied-maker",
   "metadata": {},
   "source": []
  },
  {
   "cell_type": "markdown",
   "id": "centered-conservation",
   "metadata": {},
   "source": []
  },
  {
   "cell_type": "markdown",
   "id": "hybrid-course",
   "metadata": {},
   "source": []
  },
  {
   "cell_type": "markdown",
   "id": "independent-wagon",
   "metadata": {},
   "source": []
  },
  {
   "cell_type": "markdown",
   "id": "demographic-hybrid",
   "metadata": {},
   "source": []
  },
  {
   "cell_type": "markdown",
   "id": "automated-eclipse",
   "metadata": {},
   "source": []
  },
  {
   "cell_type": "markdown",
   "id": "together-entrance",
   "metadata": {},
   "source": []
  },
  {
   "cell_type": "markdown",
   "id": "suburban-calcium",
   "metadata": {},
   "source": []
  },
  {
   "cell_type": "markdown",
   "id": "piano-subsection",
   "metadata": {},
   "source": []
  },
  {
   "cell_type": "markdown",
   "id": "responsible-novelty",
   "metadata": {},
   "source": []
  },
  {
   "cell_type": "markdown",
   "id": "french-solomon",
   "metadata": {},
   "source": []
  },
  {
   "cell_type": "markdown",
   "id": "finished-transparency",
   "metadata": {},
   "source": []
  },
  {
   "cell_type": "markdown",
   "id": "perceived-stress",
   "metadata": {},
   "source": []
  },
  {
   "cell_type": "markdown",
   "id": "improving-flashing",
   "metadata": {},
   "source": []
  },
  {
   "cell_type": "markdown",
   "id": "pregnant-turkish",
   "metadata": {},
   "source": []
  },
  {
   "cell_type": "markdown",
   "id": "selected-corrections",
   "metadata": {},
   "source": []
  },
  {
   "cell_type": "markdown",
   "id": "ancient-visibility",
   "metadata": {},
   "source": []
  },
  {
   "cell_type": "markdown",
   "id": "built-deviation",
   "metadata": {},
   "source": []
  },
  {
   "cell_type": "markdown",
   "id": "stuck-flight",
   "metadata": {},
   "source": []
  },
  {
   "cell_type": "markdown",
   "id": "congressional-region",
   "metadata": {},
   "source": []
  },
  {
   "cell_type": "markdown",
   "id": "metric-mathematics",
   "metadata": {},
   "source": []
  },
  {
   "cell_type": "markdown",
   "id": "solid-afternoon",
   "metadata": {},
   "source": []
  },
  {
   "cell_type": "markdown",
   "id": "pretty-printing",
   "metadata": {},
   "source": []
  },
  {
   "cell_type": "markdown",
   "id": "floral-minister",
   "metadata": {},
   "source": []
  },
  {
   "cell_type": "markdown",
   "id": "modular-noise",
   "metadata": {},
   "source": []
  },
  {
   "cell_type": "markdown",
   "id": "attended-paradise",
   "metadata": {},
   "source": []
  },
  {
   "cell_type": "markdown",
   "id": "through-ozone",
   "metadata": {},
   "source": []
  },
  {
   "cell_type": "markdown",
   "id": "expanded-violation",
   "metadata": {},
   "source": []
  },
  {
   "cell_type": "markdown",
   "id": "frank-engineer",
   "metadata": {},
   "source": []
  },
  {
   "cell_type": "markdown",
   "id": "flush-python",
   "metadata": {},
   "source": []
  },
  {
   "cell_type": "markdown",
   "id": "patient-update",
   "metadata": {},
   "source": []
  },
  {
   "cell_type": "markdown",
   "id": "perfect-baptist",
   "metadata": {},
   "source": []
  },
  {
   "cell_type": "markdown",
   "id": "assumed-tsunami",
   "metadata": {},
   "source": []
  },
  {
   "cell_type": "markdown",
   "id": "mechanical-expense",
   "metadata": {},
   "source": []
  },
  {
   "cell_type": "markdown",
   "id": "gentle-serve",
   "metadata": {},
   "source": []
  },
  {
   "cell_type": "markdown",
   "id": "returning-progressive",
   "metadata": {},
   "source": []
  },
  {
   "cell_type": "markdown",
   "id": "immediate-thousand",
   "metadata": {},
   "source": []
  },
  {
   "cell_type": "markdown",
   "id": "current-williams",
   "metadata": {},
   "source": []
  },
  {
   "cell_type": "markdown",
   "id": "increased-hobby",
   "metadata": {},
   "source": []
  },
  {
   "cell_type": "markdown",
   "id": "aboriginal-bradford",
   "metadata": {},
   "source": []
  },
  {
   "cell_type": "markdown",
   "id": "scenic-publication",
   "metadata": {},
   "source": []
  },
  {
   "cell_type": "markdown",
   "id": "executed-conservation",
   "metadata": {},
   "source": []
  },
  {
   "cell_type": "markdown",
   "id": "comfortable-newsletter",
   "metadata": {},
   "source": []
  },
  {
   "cell_type": "markdown",
   "id": "informational-chain",
   "metadata": {},
   "source": []
  },
  {
   "cell_type": "markdown",
   "id": "psychological-holocaust",
   "metadata": {},
   "source": []
  },
  {
   "cell_type": "markdown",
   "id": "killing-participant",
   "metadata": {},
   "source": []
  },
  {
   "cell_type": "markdown",
   "id": "active-found",
   "metadata": {},
   "source": []
  },
  {
   "cell_type": "markdown",
   "id": "complicated-asthma",
   "metadata": {},
   "source": []
  },
  {
   "cell_type": "markdown",
   "id": "ultimate-brown",
   "metadata": {},
   "source": []
  },
  {
   "cell_type": "markdown",
   "id": "third-conspiracy",
   "metadata": {},
   "source": []
  },
  {
   "cell_type": "markdown",
   "id": "champion-morris",
   "metadata": {},
   "source": []
  },
  {
   "cell_type": "markdown",
   "id": "polish-blues",
   "metadata": {},
   "source": []
  },
  {
   "cell_type": "markdown",
   "id": "unable-tampa",
   "metadata": {},
   "source": []
  },
  {
   "cell_type": "markdown",
   "id": "aquatic-devon",
   "metadata": {},
   "source": []
  },
  {
   "cell_type": "markdown",
   "id": "governmental-corruption",
   "metadata": {},
   "source": []
  },
  {
   "cell_type": "markdown",
   "id": "composite-bangladesh",
   "metadata": {},
   "source": []
  },
  {
   "cell_type": "markdown",
   "id": "military-carry",
   "metadata": {},
   "source": []
  },
  {
   "cell_type": "markdown",
   "id": "hollywood-flower",
   "metadata": {},
   "source": []
  },
  {
   "cell_type": "markdown",
   "id": "representative-ozone",
   "metadata": {},
   "source": []
  },
  {
   "cell_type": "markdown",
   "id": "powerful-dream",
   "metadata": {},
   "source": []
  },
  {
   "cell_type": "markdown",
   "id": "increased-belarus",
   "metadata": {},
   "source": []
  },
  {
   "cell_type": "markdown",
   "id": "consecutive-officer",
   "metadata": {},
   "source": []
  },
  {
   "cell_type": "markdown",
   "id": "portable-adjustment",
   "metadata": {},
   "source": []
  },
  {
   "cell_type": "markdown",
   "id": "civic-pilot",
   "metadata": {},
   "source": []
  },
  {
   "cell_type": "markdown",
   "id": "binary-nickel",
   "metadata": {},
   "source": []
  },
  {
   "cell_type": "markdown",
   "id": "third-sullivan",
   "metadata": {},
   "source": []
  },
  {
   "cell_type": "markdown",
   "id": "impaired-world",
   "metadata": {},
   "source": []
  },
  {
   "cell_type": "markdown",
   "id": "challenging-convert",
   "metadata": {},
   "source": []
  },
  {
   "cell_type": "markdown",
   "id": "valued-passage",
   "metadata": {},
   "source": []
  },
  {
   "cell_type": "markdown",
   "id": "right-vegetation",
   "metadata": {},
   "source": []
  },
  {
   "cell_type": "markdown",
   "id": "editorial-registration",
   "metadata": {},
   "source": []
  },
  {
   "cell_type": "markdown",
   "id": "loaded-omaha",
   "metadata": {},
   "source": []
  },
  {
   "cell_type": "markdown",
   "id": "affecting-lightning",
   "metadata": {},
   "source": []
  },
  {
   "cell_type": "markdown",
   "id": "boolean-temperature",
   "metadata": {},
   "source": []
  },
  {
   "cell_type": "markdown",
   "id": "corrected-creator",
   "metadata": {},
   "source": []
  },
  {
   "cell_type": "markdown",
   "id": "featured-magnet",
   "metadata": {},
   "source": []
  },
  {
   "cell_type": "markdown",
   "id": "social-reservoir",
   "metadata": {},
   "source": []
  },
  {
   "cell_type": "markdown",
   "id": "buried-opinion",
   "metadata": {},
   "source": []
  },
  {
   "cell_type": "markdown",
   "id": "gorgeous-partner",
   "metadata": {},
   "source": []
  }
 ],
 "metadata": {
  "kernelspec": {
   "display_name": "aiffel",
   "language": "python",
   "name": "aiffel"
  },
  "language_info": {
   "codemirror_mode": {
    "name": "ipython",
    "version": 3
   },
   "file_extension": ".py",
   "mimetype": "text/x-python",
   "name": "python",
   "nbconvert_exporter": "python",
   "pygments_lexer": "ipython3",
   "version": "3.7.9"
  },
  "toc": {
   "base_numbering": 1,
   "nav_menu": {},
   "number_sections": true,
   "sideBar": true,
   "skip_h1_title": false,
   "title_cell": "Table of Contents",
   "title_sidebar": "Contents",
   "toc_cell": false,
   "toc_position": {},
   "toc_section_display": true,
   "toc_window_display": true
  },
  "varInspector": {
   "cols": {
    "lenName": 16,
    "lenType": 16,
    "lenVar": 40
   },
   "kernels_config": {
    "python": {
     "delete_cmd_postfix": "",
     "delete_cmd_prefix": "del ",
     "library": "var_list.py",
     "varRefreshCmd": "print(var_dic_list())"
    },
    "r": {
     "delete_cmd_postfix": ") ",
     "delete_cmd_prefix": "rm(",
     "library": "var_list.r",
     "varRefreshCmd": "cat(var_dic_list()) "
    }
   },
   "types_to_exclude": [
    "module",
    "function",
    "builtin_function_or_method",
    "instance",
    "_Feature"
   ],
   "window_display": false
  }
 },
 "nbformat": 4,
 "nbformat_minor": 5
}
