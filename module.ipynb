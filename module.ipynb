{
 "cells": [
  {
   "cell_type": "code",
   "execution_count": 1,
   "id": "baking-tennessee",
   "metadata": {
    "ExecuteTime": {
     "end_time": "2021-05-30T11:35:23.945879Z",
     "start_time": "2021-05-30T11:35:23.864428Z"
    }
   },
   "outputs": [],
   "source": [
    "import flask"
   ]
  },
  {
   "cell_type": "code",
   "execution_count": 2,
   "id": "controversial-neighbor",
   "metadata": {
    "ExecuteTime": {
     "end_time": "2021-05-30T11:35:31.707467Z",
     "start_time": "2021-05-30T11:35:31.679240Z"
    }
   },
   "outputs": [],
   "source": [
    "import pymysql"
   ]
  },
  {
   "cell_type": "code",
   "execution_count": 3,
   "id": "scheduled-purse",
   "metadata": {
    "ExecuteTime": {
     "end_time": "2021-05-30T11:35:41.846235Z",
     "start_time": "2021-05-30T11:35:41.810976Z"
    }
   },
   "outputs": [],
   "source": [
    "import OpenSSL"
   ]
  },
  {
   "cell_type": "markdown",
   "id": "applicable-singapore",
   "metadata": {},
   "source": [
    "flask는 Python Flask를 사용하기 위한 모듈  \n",
    "pymysql은 MySQL과 연동하기 위함  \n",
    "pyopenssl은 SSL을 사용하기 위함  "
   ]
  },
  {
   "cell_type": "code",
   "execution_count": null,
   "id": "african-tyler",
   "metadata": {},
   "outputs": [],
   "source": []
  }
 ],
 "metadata": {
  "hide_input": false,
  "kernelspec": {
   "display_name": "aiffel",
   "language": "python",
   "name": "aiffel"
  },
  "language_info": {
   "codemirror_mode": {
    "name": "ipython",
    "version": 3
   },
   "file_extension": ".py",
   "mimetype": "text/x-python",
   "name": "python",
   "nbconvert_exporter": "python",
   "pygments_lexer": "ipython3",
   "version": "3.7.9"
  },
  "toc": {
   "base_numbering": 1,
   "nav_menu": {},
   "number_sections": true,
   "sideBar": true,
   "skip_h1_title": false,
   "title_cell": "Table of Contents",
   "title_sidebar": "Contents",
   "toc_cell": false,
   "toc_position": {},
   "toc_section_display": true,
   "toc_window_display": false
  },
  "varInspector": {
   "cols": {
    "lenName": 16,
    "lenType": 16,
    "lenVar": 40
   },
   "kernels_config": {
    "python": {
     "delete_cmd_postfix": "",
     "delete_cmd_prefix": "del ",
     "library": "var_list.py",
     "varRefreshCmd": "print(var_dic_list())"
    },
    "r": {
     "delete_cmd_postfix": ") ",
     "delete_cmd_prefix": "rm(",
     "library": "var_list.r",
     "varRefreshCmd": "cat(var_dic_list()) "
    }
   },
   "types_to_exclude": [
    "module",
    "function",
    "builtin_function_or_method",
    "instance",
    "_Feature"
   ],
   "window_display": false
  }
 },
 "nbformat": 4,
 "nbformat_minor": 5
}
